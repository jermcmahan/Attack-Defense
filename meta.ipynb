{
 "cells": [
  {
   "cell_type": "code",
   "execution_count": 1,
   "id": "442c77fb-6375-4ab5-83a8-5b2e25fc02b3",
   "metadata": {},
   "outputs": [],
   "source": [
    "import copy\n",
    "import numpy as np\n",
    "from itertools import product\n",
    "import matplotlib.pyplot as plt\n",
    "from collections import namedtuple"
   ]
  },
  {
   "cell_type": "markdown",
   "id": "421de7d6-b678-4b52-ae16-8bad7eafec15",
   "metadata": {},
   "source": [
    "# 1. Maze Generation"
   ]
  },
  {
   "cell_type": "code",
   "execution_count": 2,
   "id": "0f66c8a6-46b5-404c-b580-a02577077a63",
   "metadata": {},
   "outputs": [],
   "source": [
    "#Generates a k*k grid, X, represented by a numpy array with p-percent of cells being lava.\n",
    "#Here, X[i,j] == 1 means the cell is safe, and X[i,j] == 0 means it is lava.\n",
    "#The start cell (0,0) and the end cell (n-1,n-1) are never lava.\n",
    "def gen_maze(n,p):\n",
    "    X = np.array([0]*int(np.floor(n**2 * p)) + [1]*int(np.ceil(n**2 * (1-p))),dtype=np.int64)\n",
    "    np.random.shuffle(X)\n",
    "    X[0] = 1  #start at top left corner\n",
    "    X[-1] = 1 #goal at bottom right corner\n",
    "    X = X.reshape((n, n))\n",
    "    return X"
   ]
  },
  {
   "cell_type": "code",
   "execution_count": 3,
   "id": "ad73709e-d309-4512-b41b-06271a9d989b",
   "metadata": {},
   "outputs": [],
   "source": [
    "#A finite-horizon, tabular MDP is described by a named-tuple with the usual interpretations.\n",
    "MDP = namedtuple('MDP', 'S A P r H s0')"
   ]
  },
  {
   "cell_type": "code",
   "execution_count": 4,
   "id": "737f0ffe-bbfd-45f7-828c-a582b5a3916f",
   "metadata": {},
   "outputs": [],
   "source": [
    "#Create the maze shortest-path MDP as defined in the experiment's section from a given grid X \n",
    "#and a given time-horizon H\n",
    "def load_maze_mdp(X,H):\n",
    "    n = len(X)\n",
    "    A = np.array(range(5)) #S, L, R, U, D respectively.\n",
    "    S = np.array(range(int(n**2))) #Each state represents a cell (i,j) in row-major order.\n",
    "    P = np.zeros((H,len(S),len(A),len(S)))\n",
    "    r = np.zeros((H,len(S), len(A)))\n",
    "    for h in range(H):\n",
    "        for s in S:\n",
    "            i = int(s // n) #the row of the cell\n",
    "            j = int(s - i*n) #the column of the cell\n",
    "            P[h,s,0,s] = 1 #Transition for S\n",
    "            if i == (n-1) and j == (n-1):\n",
    "                    r[h,s,0] = 1 #Reward for staying at Goal\n",
    "            if j - 1 >= 0:\n",
    "                P[h,s,1,i*n + j-1] = 1 #Transition for L\n",
    "                if X[i,j-1] == 0: \n",
    "                    r[h,s,1] = -H #Reward for entering Lava\n",
    "            if j + 1 < n:\n",
    "                P[h,s,2, i*n + j+1] = 1 #Transition for R\n",
    "                if i == (n-1) and j + 1 == (n-1):\n",
    "                    r[h,s,2] = 1 #Reward for entering the Goal\n",
    "                if X[i,j+1] == 0:\n",
    "                    r[h,s,2] = -H #Reward for entering Lava\n",
    "            if i - 1 >= 0:\n",
    "                P[h,s,3,(i-1)*n + j] = 1 #Transition for U\n",
    "                if X[i-1,j] == 0: \n",
    "                    r[h,s,3] = -H #Reward for entering Lava\n",
    "            if i + 1 < n:\n",
    "                P[h,s,4,(i+1)*n + j] = 1 #Transition for D\n",
    "                r[h,s,4] = 0\n",
    "                if i + 1 == (n-1) and j == (n-1):\n",
    "                    r[h,s,4] = 1 #Reward for entering the Goal\n",
    "                if X[i+1,j] == 0: \n",
    "                    r[h,s,4] = -H #Reward for entering Lava\n",
    "    s0 = 0 #start at (0,0)\n",
    "    M = MDP(S,A,P,r,H,s0)\n",
    "    return M"
   ]
  },
  {
   "cell_type": "markdown",
   "id": "bbb95342-faff-4d74-93fd-926c9724c63f",
   "metadata": {},
   "source": [
    "# 2. No Attack"
   ]
  },
  {
   "cell_type": "code",
   "execution_count": 5,
   "id": "eb7386e8-017c-40f2-a0d0-6f44cd8f18e2",
   "metadata": {},
   "outputs": [],
   "source": [
    "#Example maze as described in the Experiment Section\n",
    "X = np.array([[1, 1, 1, 1, 1, 1, 0, 1, 0, 1],\n",
    "       [1, 1, 0, 1, 1, 1, 1, 1, 1, 0],\n",
    "       [1, 1, 1, 1, 1, 1, 0, 1, 1, 1],\n",
    "       [1, 1, 1, 1, 1, 1, 1, 1, 1, 1],\n",
    "       [0, 0, 0, 1, 1, 1, 0, 1, 1, 1],\n",
    "       [1, 1, 1, 1, 1, 1, 1, 1, 0, 0],\n",
    "       [0, 1, 1, 1, 1, 1, 1, 1, 1, 1],\n",
    "       [1, 1, 0, 0, 1, 1, 0, 1, 1, 0],\n",
    "       [0, 1, 1, 1, 0, 1, 0, 1, 1, 1],\n",
    "       [1, 1, 1, 1, 1, 1, 0, 1, 1, 1]])\n",
    "H = 2*len(X)\n",
    "M = load_maze_mdp(X,H)"
   ]
  },
  {
   "cell_type": "code",
   "execution_count": 6,
   "id": "ce6c5625-a56e-47fa-9fc5-72a7e36de090",
   "metadata": {},
   "outputs": [],
   "source": [
    "#get optimal value and optimal policy for MDP M\n",
    "def get_opt(M):\n",
    "    V = np.zeros((M.H, len(M.S)))\n",
    "    pi = np.zeros((M.H, len(M.S)))\n",
    "    for s in M.S:\n",
    "        V[M.H-1] = np.max(M.r[M.H-1],axis=1)\n",
    "        pi[M.H-1] = np.argmax(M.r[M.H-1],axis=1)\n",
    "    for h in range(M.H-2,-1,-1):\n",
    "        for s in M.S:\n",
    "            V[h] = np.max(M.r[h] + M.P[h] @ V[h+1],axis=1)\n",
    "            pi[h] = np.argmax(M.r[h] + M.P[h] @ V[h+1],axis=1)\n",
    "    return V[0,M.s0],pi.astype(int)"
   ]
  },
  {
   "cell_type": "markdown",
   "id": "82a7ed9d-f1bf-4933-8f14-57b126e4b405",
   "metadata": {},
   "source": [
    "### 2.1 Optimal Value under No Attack"
   ]
  },
  {
   "cell_type": "code",
   "execution_count": 7,
   "id": "8093d9be-9fcc-4c2e-b8aa-4a64aea12d2e",
   "metadata": {},
   "outputs": [
    {
     "name": "stdout",
     "output_type": "stream",
     "text": [
      "3.0\n"
     ]
    }
   ],
   "source": [
    "V, pi = get_opt(M)\n",
    "print(V)"
   ]
  },
  {
   "cell_type": "code",
   "execution_count": 8,
   "id": "c53f6461-d1e6-42a8-bde5-d127c7d43baf",
   "metadata": {},
   "outputs": [],
   "source": [
    "#trace the trajectory of the agent following pi in the maze M\n",
    "def get_path(M,pi):\n",
    "    s = M.s0\n",
    "    n = int(np.sqrt(len(M.S)))\n",
    "    path = [(0,0)]\n",
    "    for h in range(M.H):\n",
    "        s = np.argmax(M.P[h,s,pi[h,s]])\n",
    "        i = int(s // n)\n",
    "        j = int(s - i*n)\n",
    "        path.append((i,j))\n",
    "    return path"
   ]
  },
  {
   "cell_type": "code",
   "execution_count": 9,
   "id": "cd9396b8-6082-4485-b9f2-0f7ae1ec822c",
   "metadata": {},
   "outputs": [],
   "source": [
    "#visualize the path on the grid X and save to file\n",
    "def print_path(X, path, filename):\n",
    "    Y = copy.deepcopy(X)\n",
    "    for (i,j) in path:\n",
    "        Y[i,j] = -1\n",
    "    plt.matshow(Y, cmap=plt.get_cmap('hot'))\n",
    "    plt.savefig(filename, dpi=300, bbox_inches = \"tight\")"
   ]
  },
  {
   "cell_type": "markdown",
   "id": "f8791d0b-b66e-4466-a5cb-e9edc6466c2a",
   "metadata": {},
   "source": [
    "## 2.2 Optimal Path under No Attack"
   ]
  },
  {
   "cell_type": "code",
   "execution_count": 10,
   "id": "15cb11e1-d948-4cfb-ae99-94ea974ae949",
   "metadata": {},
   "outputs": [
    {
     "data": {
      "image/png": "[encoded data removed]",
      "text/plain": [
       "<Figure size 480x480 with 1 Axes>"
      ]
     },
     "metadata": {},
     "output_type": "display_data"
    }
   ],
   "source": [
    "path = get_path(M,pi)\n",
    "print_path(X,path, 'clean')"
   ]
  },
  {
   "cell_type": "markdown",
   "id": "78581291-dd8b-48f7-8d64-5b3bdf4b3bb8",
   "metadata": {},
   "source": [
    "## 3. Experiment: State Attack"
   ]
  },
  {
   "cell_type": "code",
   "execution_count": 11,
   "id": "72af43fa-3298-4429-8362-4ad029939e46",
   "metadata": {},
   "outputs": [],
   "source": [
    "#state attack meta-MDP\n",
    "def state_mdp(M, pi, B):\n",
    "    mS = M.S\n",
    "    mA = M.S\n",
    "    mP = np.zeros((M.H,len(M.S),len(M.S),len(M.S)))\n",
    "    mr = np.zeros((M.H,len(M.S), len(M.S)))\n",
    "    for h in range(M.H):\n",
    "        for s in mS:\n",
    "            for sp in mS:\n",
    "                for s_dag in mA:\n",
    "                    mP[h,s, s_dag, sp] = M.P[h,s_dag,pi[h,s_dag],sp]\n",
    "    for h in range(M.H):\n",
    "        for s in mS:\n",
    "            for s_dag in mA:\n",
    "                if s_dag in B[h,s]:\n",
    "                    mr[h,s,s_dag] = -M.r[h,s_dag,pi[h,s_dag]]\n",
    "                else:\n",
    "                    mr[h,s,s_dag] = -np.infty\n",
    "    mM = MDP(mS, mA, mP, mr, M.H, M.s0)\n",
    "    return mM"
   ]
  },
  {
   "cell_type": "code",
   "execution_count": 12,
   "id": "bfc77687-67d4-448f-9a79-aca8e678be31",
   "metadata": {},
   "outputs": [],
   "source": [
    "#The constraint set for state-based attacks as described in the Experiment Section\n",
    "Bs = {(h,s): [s] for h in range(M.H) for s in M.S}\n",
    "n = int(np.sqrt(len(M.S)))\n",
    "for h in range(M.H):\n",
    "    for i in range(0,2):\n",
    "        for j in range(7,n):\n",
    "            Bs[h,int(i*n + j)] = M.S"
   ]
  },
  {
   "cell_type": "markdown",
   "id": "630ccbd2-0fd4-4ce7-9fbd-ce2571ff8581",
   "metadata": {},
   "source": [
    "## 3.1 Victim's Value under Optimal Attack"
   ]
  },
  {
   "cell_type": "code",
   "execution_count": 13,
   "id": "562dd7eb-ddc2-4aba-9704-db04fe31d62e",
   "metadata": {},
   "outputs": [
    {
     "name": "stdout",
     "output_type": "stream",
     "text": [
      "-0.0\n"
     ]
    }
   ],
   "source": [
    "Ms = state_mdp(M,pi,Bs)\n",
    "Vs, nus = get_opt(Ms)\n",
    "print(-Vs)"
   ]
  },
  {
   "cell_type": "code",
   "execution_count": 14,
   "id": "f75f59ee-04e7-427a-87b0-166a2f7d9989",
   "metadata": {},
   "outputs": [],
   "source": [
    "def state_path(M, pi, nu):\n",
    "    path = [(0,0)]\n",
    "    i = 0\n",
    "    j = 0\n",
    "    n = int(np.sqrt(len(M.S)))\n",
    "    s = M.s0\n",
    "    for h in range(M.H):\n",
    "        s_p = nu[h,s]\n",
    "        s = np.argmax(M.P[h,s_p,pi[h,s_p]])\n",
    "        i = int(s//n)\n",
    "        j = s - i*n\n",
    "        path += [(i,j)]\n",
    "    return path"
   ]
  },
  {
   "cell_type": "markdown",
   "id": "c1908065-9208-456f-9ad6-16a1ed047009",
   "metadata": {},
   "source": [
    "## 3.2 Victim's Path under Optimal Attack"
   ]
  },
  {
   "cell_type": "code",
   "execution_count": 15,
   "id": "5e83d529-b1af-493a-b5cf-50c9584a6eeb",
   "metadata": {},
   "outputs": [
    {
     "data": {
      "image/png": "[encoded data removed]",
      "text/plain": [
       "<Figure size 480x480 with 1 Axes>"
      ]
     },
     "metadata": {},
     "output_type": "display_data"
    }
   ],
   "source": [
    "poison = state_path(M, pi, nus)\n",
    "print_path(X,poison,'state_attack')"
   ]
  },
  {
   "cell_type": "markdown",
   "id": "7c697237-163d-452a-a57c-263f86a8a8c0",
   "metadata": {},
   "source": [
    "## 4. Experiment: Perceived-State Attack"
   ]
  },
  {
   "cell_type": "code",
   "execution_count": 16,
   "id": "962c5773-2ae9-470a-9251-abd45ed8c5be",
   "metadata": {},
   "outputs": [],
   "source": [
    "#perceived-state attack meta-MDP\n",
    "def perceived_mdp(M, pi, B):\n",
    "    mS = M.S\n",
    "    mA = M.S\n",
    "    mP = np.zeros((M.H,len(M.S),len(M.S),len(M.S)))\n",
    "    mr = np.zeros((M.H,len(M.S), len(M.S)))\n",
    "    for h in range(M.H):\n",
    "        for s in mS:\n",
    "            for sp in mS:\n",
    "                for s_dag in mA:\n",
    "                    mP[h,s, s_dag, sp] = M.P[h,s,pi[h,s_dag],sp]\n",
    "    for h in range(M.H):\n",
    "        for s in mS:\n",
    "            for s_dag in mA:\n",
    "                if s_dag in B[h,s]:\n",
    "                    mr[h,s,s_dag] = -M.r[h,s,pi[h,s_dag]]\n",
    "                else:\n",
    "                    mr[h,s,s_dag] = -np.infty\n",
    "    mM = MDP(mS, mA, mP, mr, M.H, M.s0)\n",
    "    return mM"
   ]
  },
  {
   "cell_type": "markdown",
   "id": "57cd7736-5cc2-4f16-b6e1-b23f20454c08",
   "metadata": {},
   "source": [
    "## 4.1 Victim's Value under Optimal Attack"
   ]
  },
  {
   "cell_type": "code",
   "execution_count": 17,
   "id": "24584075-d550-4292-af3f-658af86e2782",
   "metadata": {},
   "outputs": [
    {
     "name": "stdout",
     "output_type": "stream",
     "text": [
      "-100.0\n"
     ]
    }
   ],
   "source": [
    "Mp = perceived_mdp(M,pi,Bs)\n",
    "Vp,nup = get_opt(Mp)\n",
    "print(-Vp)"
   ]
  },
  {
   "cell_type": "code",
   "execution_count": 18,
   "id": "8ca7bb6a-af65-4740-9542-795ebb0b1b7e",
   "metadata": {},
   "outputs": [],
   "source": [
    "def perceived_path(M, pi, nu):\n",
    "    path = [(0,0)]\n",
    "    i = 0\n",
    "    j = 0\n",
    "    n = int(np.sqrt(len(M.S)))\n",
    "    s = M.s0\n",
    "    for h in range(M.H):\n",
    "        s_p = nu[h,s]\n",
    "        s = np.argmax(M.P[h,s,pi[h,s_p]])\n",
    "        i = int(s // n)\n",
    "        j = s - i*n\n",
    "        path += [(i,j)]\n",
    "    return path"
   ]
  },
  {
   "cell_type": "markdown",
   "id": "b5a4a353-ad2e-40c4-a062-4345829a2bcc",
   "metadata": {},
   "source": [
    "## 4.2 Victim's Path under Optimal Attack"
   ]
  },
  {
   "cell_type": "code",
   "execution_count": 19,
   "id": "1dfd42e5-16ef-435c-add8-1c0b94b477a9",
   "metadata": {},
   "outputs": [
    {
     "data": {
      "image/png": "[encoded data removed]",
      "text/plain": [
       "<Figure size 480x480 with 1 Axes>"
      ]
     },
     "metadata": {},
     "output_type": "display_data"
    }
   ],
   "source": [
    "poison = perceived_path(M, pi, nup)\n",
    "print_path(X,poison,'perceived_attack')"
   ]
  },
  {
   "cell_type": "markdown",
   "id": "8bf3706a-20e8-478a-b63d-ac0dc44fe0f6",
   "metadata": {},
   "source": [
    "## 5. Experiment: Action Attack"
   ]
  },
  {
   "cell_type": "code",
   "execution_count": 20,
   "id": "d6056c3e-0e93-4622-b379-4ad79da94c1f",
   "metadata": {},
   "outputs": [],
   "source": [
    "#action attack MDP\n",
    "def action_mdp(M, pi, B):\n",
    "    mS = M.S\n",
    "    mA = M.A\n",
    "    mP = np.zeros((M.H,len(M.S),len(M.A),len(M.S)))\n",
    "    mr = np.zeros((M.H,len(M.S), len(M.A)))\n",
    "    for h in range(M.H):\n",
    "        for s in mS:\n",
    "            for sp in mS:\n",
    "                for a_dag in mA:\n",
    "                    mP[h,s, a_dag, sp] = M.P[h,s,a_dag,sp]\n",
    "    for h in range(M.H):\n",
    "        for s in mS:\n",
    "            for a_dag in mA:\n",
    "                if a_dag in B[h,s,pi[h,s]]:\n",
    "                    mr[h,s,a_dag] = -M.r[h,s,a_dag]\n",
    "                else:\n",
    "                    mr[h,s,a_dag] = -np.infty\n",
    "    mM = MDP(mS, mA, mP, mr, M.H, M.s0)\n",
    "    return mM"
   ]
  },
  {
   "cell_type": "code",
   "execution_count": 21,
   "id": "8b20c3b0-e5e2-4ce3-9a13-d222abd39107",
   "metadata": {},
   "outputs": [],
   "source": [
    "#constraint set for action attacks\n",
    "Ba = {(h,s,a): [a] for h in range(M.H) for s in M.S for a in M.A}\n",
    "n = int(np.sqrt(len(M.S)))\n",
    "for h in range(M.H):\n",
    "    for i in range(0,5):\n",
    "        for j in range(5,n):\n",
    "            for a in M.A:\n",
    "                Ba[h,int(i*n + j),a] = M.A"
   ]
  },
  {
   "cell_type": "markdown",
   "id": "f3b580b8-cbfb-447f-b3a1-d026fe2a25f4",
   "metadata": {},
   "source": [
    "## 5.1 Victim's Value under Optimal Attack"
   ]
  },
  {
   "cell_type": "code",
   "execution_count": 22,
   "id": "5abd4fe8-c6c5-4ece-ad66-3f2b47745be2",
   "metadata": {},
   "outputs": [
    {
     "name": "stdout",
     "output_type": "stream",
     "text": [
      "-160.0\n"
     ]
    }
   ],
   "source": [
    "Ma = action_mdp(M,pi,Ba)\n",
    "Va, nua = get_opt(Ma)\n",
    "print(-Va)"
   ]
  },
  {
   "cell_type": "code",
   "execution_count": 23,
   "id": "ce83feac-9299-4e8c-99e1-63601b0c8e30",
   "metadata": {},
   "outputs": [],
   "source": [
    "def action_path(M, pi, nu):\n",
    "    path = [(0,0)]\n",
    "    i = 0\n",
    "    j = 0\n",
    "    n = int(np.sqrt(len(M.S)))\n",
    "    s = M.s0\n",
    "    for h in range(M.H):\n",
    "        a = nu[h,s]\n",
    "        s = np.argmax(M.P[h,s,a])\n",
    "        i = int(s // n)\n",
    "        j = s - i * n\n",
    "        path += [(i,j)]\n",
    "    return path"
   ]
  },
  {
   "cell_type": "markdown",
   "id": "e9433fe4-4b6f-4bf6-8522-4829d0ce5240",
   "metadata": {},
   "source": [
    "## 5.2 Victim's Path under Optimal Attack"
   ]
  },
  {
   "cell_type": "code",
   "execution_count": 24,
   "id": "d3c2921d-3abb-4283-8ca0-936f57c7d230",
   "metadata": {},
   "outputs": [
    {
     "data": {
      "image/png": "[encoded data removed]",
      "text/plain": [
       "<Figure size 480x480 with 1 Axes>"
      ]
     },
     "metadata": {},
     "output_type": "display_data"
    }
   ],
   "source": [
    "poison = action_path(M, pi, nua)\n",
    "print_path(X,poison,'action_attack')"
   ]
  },
  {
   "cell_type": "markdown",
   "id": "b45e9750-7ef0-48cc-99f3-cb67f1d17c83",
   "metadata": {},
   "source": [
    "# 6. Experiment: Defense"
   ]
  },
  {
   "cell_type": "code",
   "execution_count": 25,
   "id": "f1e79356-8a85-4d4c-90e0-1a5008ccdc5b",
   "metadata": {},
   "outputs": [],
   "source": [
    "#get optimal defense value and optimal defense policy using the maximin recursion for adversarial attacker's\n",
    "def action_defense(M, B):\n",
    "    V = {} \n",
    "    pi = {} \n",
    "    for s in M.S:\n",
    "        cur = {a: min({a_dag: M.r[M.H-1,s,a_dag] for a_dag in B[M.H-1,s,a]}.values()) for a in M.A}\n",
    "        V[M.H-1, s] = max(cur.values())\n",
    "        pi[M.H-1, s] = max(cur, key = cur.get)\n",
    "    for h in range(M.H-2,-1,-1):\n",
    "        for s in M.S:\n",
    "            cur = {a: min({a_dag: (M.r[h,s,a_dag] + sum([M.P[h,s,a_dag,s_p]*V[h+1,s_p] for s_p in M.S])) \n",
    "                           for a_dag in B[h,s,a]}.values()) for a in M.A}\n",
    "            V[h,s] = max(cur.values())\n",
    "            pi[h,s] = max(cur, key = cur.get)\n",
    "    return V[0,M.s0],pi"
   ]
  },
  {
   "cell_type": "markdown",
   "id": "acdc0eaf-0e9e-460a-a1d0-e8983654b9aa",
   "metadata": {},
   "source": [
    "## 6.1 Victim's Robust Value under No Attack"
   ]
  },
  {
   "cell_type": "code",
   "execution_count": 26,
   "id": "be7dabb4-8ea8-45fe-8afa-70ea1e458c49",
   "metadata": {},
   "outputs": [
    {
     "name": "stdout",
     "output_type": "stream",
     "text": [
      "3.0\n"
     ]
    }
   ],
   "source": [
    "Vd, pid = action_defense(M,Ba)\n",
    "print(Vd)"
   ]
  },
  {
   "cell_type": "markdown",
   "id": "920f0feb-b6b9-48be-a10b-adfa7faa434c",
   "metadata": {},
   "source": [
    "## 6.2 Victim's Robust Path under No Attack"
   ]
  },
  {
   "cell_type": "code",
   "execution_count": 27,
   "id": "fecb3997-ff8b-4ac6-a1e7-a113f8c38772",
   "metadata": {},
   "outputs": [
    {
     "data": {
      "image/png": "[encoded data removed]",
      "text/plain": [
       "<Figure size 480x480 with 1 Axes>"
      ]
     },
     "metadata": {},
     "output_type": "display_data"
    }
   ],
   "source": [
    "path = get_path(M,pid)\n",
    "print_path(X,path, 'clean_defense')"
   ]
  },
  {
   "cell_type": "markdown",
   "id": "7b27df0e-d365-4c77-8746-3d3df96f096a",
   "metadata": {},
   "source": [
    "## 6.3 Victim's Robust Value under Optimal Attack"
   ]
  },
  {
   "cell_type": "code",
   "execution_count": 28,
   "id": "5dba260d-4fa2-4eef-a684-55b92d631393",
   "metadata": {},
   "outputs": [
    {
     "name": "stdout",
     "output_type": "stream",
     "text": [
      "3.0\n"
     ]
    }
   ],
   "source": [
    "Mad = action_mdp(M,pid,Ba)\n",
    "Vad, nuad = get_opt(Mad)\n",
    "print(-Vad)"
   ]
  },
  {
   "cell_type": "markdown",
   "id": "db2f809b-6db4-4311-a426-91d9d8837bcc",
   "metadata": {},
   "source": [
    "## 6.4 Victim's Robust Path under Optimal Attack"
   ]
  },
  {
   "cell_type": "code",
   "execution_count": 29,
   "id": "eedcdd0a-5794-4340-9ea1-9118c365d628",
   "metadata": {},
   "outputs": [
    {
     "data": {
      "image/png": "[encoded data removed]",
      "text/plain": [
       "<Figure size 480x480 with 1 Axes>"
      ]
     },
     "metadata": {},
     "output_type": "display_data"
    }
   ],
   "source": [
    "poison = action_path(M, pid, nuad)\n",
    "print_path(X,poison,'action_defense')"
   ]
  },
  {
   "cell_type": "markdown",
   "id": "57d7d9c7-d05a-487c-abd1-1e4256bdc00f",
   "metadata": {},
   "source": [
    "# Full meta-MDP Construction"
   ]
  },
  {
   "cell_type": "code",
   "execution_count": 30,
   "id": "8bc15a49-035b-4692-9f9f-1388e60cbb73",
   "metadata": {},
   "outputs": [],
   "source": [
    "#Complete meta-MDP\n",
    "def meta_mdp(M,pi,B):\n",
    "    mH = 4*M.H\n",
    "    ms0 = M.s0\n",
    "    mS = {}\n",
    "    mA = {}\n",
    "    for mh in range(mH):\n",
    "        h = int(mh/4)\n",
    "        if mh % 4 == 0:\n",
    "            mS[mh] = M.S[h]\n",
    "        elif mh % 4 == 1:\n",
    "            mS[mh] = [(s,M.O[s]) for s in M.S[h]]\n",
    "        elif mh % 4 == 2:\n",
    "            mS[mh] = [(s,s_d,a) for s in M.S[h] for s_d in M.S[h] for a in M.A[h,s_d]]\n",
    "        elif mh % 4 == 3:\n",
    "            mS[mh] = [(s,s_d,a,M.r[h,s,a]) for s in M.S[h] for s_d in M.S[h] for a in M.A[h,s_d]]\n",
    "    for mh in range(mH):\n",
    "        for ms in mS[mh]:\n",
    "            h = int(mh/4)\n",
    "            if mh % 4 == 0:\n",
    "                mA[mh] = B[h,ms]\n",
    "            elif mh % 4 == 1:\n",
    "                mA[mh] = B[h,ms[0],ms[1]]\n",
    "            elif mh % 4 == 2:\n",
    "                mA[mh] = B[h,ms[0],ms[1],ms[2]]\n",
    "            elif mh % 4 == 3:\n",
    "                mA[mh] = B[h,ms[0],ms[1],ms[2],ms[3]]\n",
    "    mP = {}\n",
    "    for mh in range(mH):\n",
    "        for ms in mS[mh]:\n",
    "            for ma in mA[mh,ms]:\n",
    "                h = int(mh/4)\n",
    "                if mh % 4 == 0:\n",
    "                    mP[mh,ms,ma] = (ma,M.O[ma])\n",
    "                elif mh % 4 == 1:\n",
    "                    mP[mh,ms,ma] = (ms[0],ma,pi[ma])\n",
    "                elif mh % 4 == 2:\n",
    "                    mP[mh,ms,ma] = (ms[0],ms[1],ma,M.r[h,ms[0],ma])\n",
    "                elif mh % 4 == 3:\n",
    "                    mP[mh,ms,ma] = M.P[h,ms[0],ms[2]]\n",
    "    mr = {}\n",
    "    for mh in range(mH):\n",
    "        for ms in mS[mh]:\n",
    "            for ma in mA[mh,ms]:\n",
    "                h = int(mh/4)\n",
    "                if mh % 4 == 3:\n",
    "                    mr[mh,ms,ma] = ma\n",
    "                else:\n",
    "                    mr[mh,ms,ma] = 0\n",
    "    mM = MDP(mS, mA, mP, mr, mH, ms0)\n",
    "    return mM"
   ]
  },
  {
   "cell_type": "code",
   "execution_count": null,
   "id": "4484bbae-6a2c-44ae-9fe4-5f7002c2cad2",
   "metadata": {},
   "outputs": [],
   "source": []
  }
 ],
 "metadata": {
  "kernelspec": {
   "display_name": "Python 3 (ipykernel)",
   "language": "python",
   "name": "python3"
  },
  "language_info": {
   "codemirror_mode": {
    "name": "ipython",
    "version": 3
   },
   "file_extension": ".py",
   "mimetype": "text/x-python",
   "name": "python",
   "nbconvert_exporter": "python",
   "pygments_lexer": "ipython3",
   "version": "3.10.6"
  }
 },
 "nbformat": 4,
 "nbformat_minor": 5
}
